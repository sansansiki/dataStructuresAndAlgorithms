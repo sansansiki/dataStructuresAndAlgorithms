{
 "cells": [
  {
   "cell_type": "code",
   "execution_count": null,
   "metadata": {},
   "outputs": [],
   "source": []
  },
  {
   "cell_type": "markdown",
   "metadata": {},
   "source": [
    "## 经典例题\n"
   ]
  },
  {
   "cell_type": "markdown",
   "metadata": {},
   "source": [
    "1. [leetcode 79 单词搜索]([https://leetcode.cn/problems/word-search/description/?envType=study-plan-v2&envId=top-interview-150])\n",
    "\n",
    "涉及知识点\n",
    "\n",
    "1. 剪枝\n",
    "2. 标记数组 在原数组进行修改进而避免实现对标记数组的需求\n",
    "3. temp 数组的路径判断优化 ：设置 k 下标来进行判断当前 k 位置的元素是否于目标位置的相等\n",
    "4. **递归搜索的优化** :  \n",
    "   for 循环 + 剪枝\n",
    "\n",
    "   ````for forward in self.forwards: # 超时的主要原因\n",
    "         if self.res:\n",
    "             break\n",
    "         if i >= 0 and i < m and j >= 0 and j < n and not used[i][j]:\n",
    "             ni,nj = i+forward[0],j+forward[1]\n",
    "             temp.append(board[i][j]) # 路径记录数组\n",
    "             used[i][j] = True\n",
    "             dfs(ni,nj,temp,board,used)\n",
    "             temp.pop()\n",
    "             used[i][j] = False```\n",
    "\n",
    "   优化为：\n",
    "   ```python\n",
    "   res = dfs(i, j+1, k+1) or dfs(i, j-1, k +\n",
    "                                             1) or dfs(i+1, j, k+1) or dfs(i-1, j, k+1)```\n",
    "   ````\n"
   ]
  },
  {
   "cell_type": "code",
   "execution_count": 2,
   "metadata": {},
   "outputs": [],
   "source": [
    "class Solution:\n",
    "    def __init__(self):\n",
    "        self.forwards = [[1, 0], [-1, 0], [0, 1], [0, -1]]\n",
    "        self.res = False\n",
    "\n",
    "    def exist(self, board, word: str) -> bool:\n",
    "        '''-----------------未优化版本------------------------'''\n",
    "        # def dfs(i,j,temp,board,used):\n",
    "        #     m,n = len(board),len(board[0])\n",
    "\n",
    "        #     if len(temp)!=0 and ''.join(temp) not in word: # 剪枝\n",
    "        #         return\n",
    "        #     if len(temp) == len(word):\n",
    "        #         if ''.join(temp) == word:\n",
    "        #             self.res = True\n",
    "        #             return\n",
    "        #         else:\n",
    "        #             return\n",
    "\n",
    "        #     for forward in self.forwards: # 超时的主要原因\n",
    "        #         if self.res:\n",
    "        #             break\n",
    "        #         if i >= 0 and i < m and j >= 0 and j < n and not used[i][j]:\n",
    "        #             ni,nj = i+forward[0],j+forward[1]\n",
    "        #             temp.append(board[i][j]) # 路径记录数组\n",
    "        #             used[i][j] = True\n",
    "        #             dfs(ni,nj,temp,board,used)\n",
    "        #             temp.pop()\n",
    "        #             used[i][j] = False\n",
    "\n",
    "        # m,n = len(board),len(board[0])\n",
    "        # for i in range(m):\n",
    "        #     for j in range(n):\n",
    "        #         used = [[False] * n for _ in range(m)] # 路径标记数组\n",
    "        #         if board[i][j] == word[0]:\n",
    "        #             dfs(i,j,[],board,used)\n",
    "        # return self.res\n",
    "\n",
    "        '''-----------------优化版本------------------------'''\n",
    "        def dfs(i, j, k):\n",
    "            if k == len(word):\n",
    "                return True\n",
    "            if not 0 <= i < len(board) or not 0 <= j < len(board[0]) or board[i][j] != word[k]:\n",
    "                return False\n",
    "\n",
    "            board[i][j] = '1'\n",
    "            res = dfs(i, j+1, k+1) or dfs(i, j-1, k +\n",
    "                                          1) or dfs(i+1, j, k+1) or dfs(i-1, j, k+1)\n",
    "            board[i][j] = word[k]\n",
    "            return res\n",
    "\n",
    "        m, n = len(board), len(board[0])\n",
    "        res = False\n",
    "        for i in range(m):\n",
    "            for j in range(n):\n",
    "                if board[i][j] == word[0] and not res:\n",
    "                    res = dfs(i, j, 0)\n",
    "        return res"
   ]
  }
 ],
 "metadata": {
  "kernelspec": {
   "display_name": "common_envs",
   "language": "python",
   "name": "python3"
  },
  "language_info": {
   "codemirror_mode": {
    "name": "ipython",
    "version": 3
   },
   "file_extension": ".py",
   "mimetype": "text/x-python",
   "name": "python",
   "nbconvert_exporter": "python",
   "pygments_lexer": "ipython3",
   "version": "3.9.16"
  }
 },
 "nbformat": 4,
 "nbformat_minor": 2
}
