{
 "cells": [
  {
   "cell_type": "markdown",
   "metadata": {},
   "source": [
    "深度优先\n"
   ]
  },
  {
   "cell_type": "code",
   "execution_count": null,
   "metadata": {},
   "outputs": [],
   "source": []
  },
  {
   "cell_type": "markdown",
   "metadata": {},
   "source": [
    "## 做题过程中的技巧\n"
   ]
  },
  {
   "cell_type": "markdown",
   "metadata": {},
   "source": [
    "1. 有向图和无向图\n"
   ]
  },
  {
   "cell_type": "markdown",
   "metadata": {},
   "source": [
    "对于无向图，在构建图的时候可以使用邻接矩阵来表示，edge[i][j]表示节点 i 和 j 之间存在边\n",
    "但是对于有向图，edge[i][j]无法表示是 i 指向 j,还是 j 指向 i\n",
    "因此，可以使用邻接表来表示有向图\n"
   ]
  },
  {
   "cell_type": "code",
   "execution_count": null,
   "metadata": {},
   "outputs": [],
   "source": [
    "nodes = [1, 2, 3, 4, 5]\n",
    "\n",
    "edge_1 = [[] * len(nodes) for _ in range(len(nodes))]  # 无向图的表示，并不能表示有向图的指示\n",
    "edge_2 = [[] for _ in range(len(nodes))]  # 有向图\n",
    "edge_2[i].append(j)  # 表示 i 指向 j"
   ]
  },
  {
   "cell_type": "markdown",
   "metadata": {},
   "source": [
    "2.图的遍历的标记使用\n",
    "\n",
    "**使用标记来方式遍历过程中多次遍历到同一个节点，因此，使用标记来表示是否遍历过**\n"
   ]
  },
  {
   "cell_type": "code",
   "execution_count": null,
   "metadata": {},
   "outputs": [],
   "source": []
  }
 ],
 "metadata": {
  "language_info": {
   "name": "python"
  }
 },
 "nbformat": 4,
 "nbformat_minor": 2
}
