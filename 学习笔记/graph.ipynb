{
 "cells": [
  {
   "cell_type": "markdown",
   "metadata": {},
   "source": [
    "深度优先\n"
   ]
  },
  {
   "cell_type": "code",
   "execution_count": null,
   "metadata": {},
   "outputs": [],
   "source": []
  },
  {
   "cell_type": "markdown",
   "metadata": {},
   "source": [
    "### 1. 并查集\n",
    "\n",
    "参考 https://www.programmercarl.com/kamacoder/%E5%9B%BE%E8%AE%BA%E5%B9%B6%E6%9F%A5%E9%9B%86%E7%90%86%E8%AE%BA%E5%9F%BA%E7%A1%80.html#%E4%BB%A3%E7%A0%81%E6%A8%A1%E6%9D%BF\n",
    "\n",
    "关键词 ： 连通性 无向图 判断两个元素是否在同一个集合里\n",
    "\n",
    "1. 如何表示连通性\n",
    "\n",
    "```// 将v，u 这条边加入并查集\n",
    "void join(int u, int v) {\n",
    "    u = find(u); // 寻找u的根\n",
    "    v = find(v); // 寻找v的根\n",
    "    if (u == v) return; // 如果发现根相同，则说明在一个集合，不用两个节点相连直接返回\n",
    "    father[v] = u;\n",
    "}\n",
    "```\n",
    "\n",
    "2.如何寻找根节点\n",
    "\n",
    "```// 并查集里寻根的过程\n",
    "int find(int u) {\n",
    "    if (u == father[u]) return u; // 如果根就是自己，直接返回\n",
    "    // else return find(father[u]); // 如果根不是自己，就根据数组下标一层一层向下找\n",
    "    else father[u] = find(father[u]); // 路径压缩，将路径上的所有节点都指向根节点，这样下次查找的时候，就可以直接返回根节点，而不需要一层一层向下找  减少递归层数，从多叉树到只有两层的树\n",
    "}\n",
    "\n",
    "```\n",
    "\n",
    "3. 初始化 需要根节点指向自己\n",
    "\n",
    "```void init() {\n",
    "    for (int i = 0; i < n; ++i) {\n",
    "        father[i] = i;\n",
    "    }\n",
    "}\n",
    "```\n",
    "\n",
    "4. 如何判断相同根\n",
    "\n",
    "```// 判断 u 和 v是否找到同一个根\n",
    "bool isSame(int u, int v) {\n",
    "    u = find(u);\n",
    "    v = find(v);\n",
    "    return u == v;\n",
    "}\n",
    "```\n"
   ]
  },
  {
   "cell_type": "markdown",
   "metadata": {},
   "source": [
    "## 做题过程中的技巧\n"
   ]
  },
  {
   "cell_type": "markdown",
   "metadata": {},
   "source": [
    "1. 有向图和无向图\n"
   ]
  },
  {
   "cell_type": "markdown",
   "metadata": {},
   "source": [
    "对于无向图，在构建图的时候可以使用邻接矩阵来表示，edge[i][j]表示节点 i 和 j 之间存在边\n",
    "但是对于有向图，edge[i][j]无法表示是 i 指向 j,还是 j 指向 i\n",
    "因此，可以使用邻接表来表示有向图\n"
   ]
  },
  {
   "cell_type": "code",
   "execution_count": null,
   "metadata": {},
   "outputs": [],
   "source": [
    "nodes = [1, 2, 3, 4, 5]\n",
    "\n",
    "edge_1 = [[] * len(nodes) for _ in range(len(nodes))]  # 无向图的表示，并不能表示有向图的指示\n",
    "edge_2 = [[] for _ in range(len(nodes))]  # 有向图\n",
    "edge_2[i].append(j)  # 表示 i 指向 j / 从节点i出发指向的节点"
   ]
  },
  {
   "cell_type": "markdown",
   "metadata": {},
   "source": [
    "2.图的遍历的标记使用\n",
    "\n",
    "**使用标记来方式遍历过程中多次遍历到同一个节点，因此，使用标记来表示是否遍历过**\n"
   ]
  },
  {
   "cell_type": "code",
   "execution_count": null,
   "metadata": {},
   "outputs": [],
   "source": []
  }
 ],
 "metadata": {
  "language_info": {
   "name": "python"
  }
 },
 "nbformat": 4,
 "nbformat_minor": 2
}
