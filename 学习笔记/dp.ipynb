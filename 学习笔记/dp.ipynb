{
 "cells": [
  {
   "cell_type": "code",
   "execution_count": null,
   "metadata": {},
   "outputs": [],
   "source": [
    "# 最重要的是 对dp数组的理解 结合现实意义和题目意义"
   ]
  },
  {
   "cell_type": "markdown",
   "metadata": {},
   "source": [
    "## 步骤\n"
   ]
  },
  {
   "cell_type": "markdown",
   "metadata": {},
   "source": [
    "1. 确定 dp 数组（dp table）以及下标的含义 ： 下标多为题目所求\n",
    "2. 确定递推公式\n",
    "3. dp 数组如何初始化 01 背包问题的二维 dp 数组 根据实际情况和递推公式来\n",
    "4. 确定遍历顺序 01 背包问题的一维 dp 数组 根据递推公式来，覆盖时需要保证我的前面的是没有被更新的\n",
    "5. 举例推导 dp 数组\n"
   ]
  }
 ],
 "metadata": {
  "language_info": {
   "name": "python"
  }
 },
 "nbformat": 4,
 "nbformat_minor": 2
}
