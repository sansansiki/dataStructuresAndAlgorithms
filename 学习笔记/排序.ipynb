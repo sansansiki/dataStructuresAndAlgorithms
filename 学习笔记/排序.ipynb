{
 "cells": [
  {
   "cell_type": "markdown",
   "metadata": {},
   "source": [
    "# 1.直接插入排序\n",
    "\n",
    "以当前位置为基准 对比前面的数字，选择合适的位置插入，如何选择呢 ，以当前为基准进行前向对比，大于就交换元素，小于就不动，进行后向插入排序\n"
   ]
  },
  {
   "cell_type": "code",
   "execution_count": 8,
   "metadata": {},
   "outputs": [
    {
     "name": "stdout",
     "output_type": "stream",
     "text": [
      "[1, 3, 3, 5, 5, 6, 8, 8, 7]\n"
     ]
    }
   ],
   "source": [
    "nums = [1, 3, 5, 4, 2, 6, 8, 7, 9]\n",
    "\n",
    "\n",
    "def insert_sort(nums):\n",
    "    for i in range(1, len(nums)):\n",
    "        j = i - 1  # 从 i-1 开始进行遍历 i-1 前面的元素都是有序的\n",
    "        cur_num = nums[i]  # 当前需要插入的元素\n",
    "        while j >= 0:\n",
    "            if cur_num < nums[j]:\n",
    "                nums[j+1] = nums[j]  # j 前面是有序的 后向移动最大到i i前面的元素作为有序的数组参与到元素的移动当中\n",
    "                nums[j] = cur_num\n",
    "            j -= 1\n",
    "    return nums\n",
    "\n",
    "\n",
    "print(insert_sort(nums))"
   ]
  },
  {
   "cell_type": "markdown",
   "metadata": {},
   "source": [
    "# 2.希尔排序\n",
    "\n",
    "选择一个增量(步长)序列 t1,t2,··,tk,其中 tk=1 增量的取法：t=len(nums)//2\n",
    "按增量序列个数 k,对序列进行 k 趟排序；\n",
    "每趟排序根据对应的增量 t,,将待排序列分割成若干长度为的子序列，分别对各子序列进行直\n",
    "接插入排序。当增量因子为 1 时，整个序列作为一个序列来处理，排序完成。\n"
   ]
  },
  {
   "cell_type": "code",
   "execution_count": 7,
   "metadata": {},
   "outputs": [
    {
     "name": "stdout",
     "output_type": "stream",
     "text": [
      "[1, 2, 3, 4, 5, 6, 7, 8, 9]\n"
     ]
    }
   ],
   "source": [
    "nums = [1, 3, 5, 4, 2, 6, 8, 7, 9]\n",
    "\n",
    "\n",
    "def xir_sort(nums):\n",
    "    gap = len(nums) // 2\n",
    "    while gap > 0:\n",
    "\n",
    "        for i in range(gap, len(nums)):  # 共计 len(nums) - gap 个元素作为key需要排序 ->对应当前步长下的k次直接插入排序\n",
    "            cur_num = nums[i]\n",
    "            cur_index = i\n",
    "            while cur_index >= gap and nums[cur_index-gap] > cur_num:\n",
    "                nums[cur_index] = nums[cur_index-gap]\n",
    "                cur_index -= gap\n",
    "            nums[cur_index] = cur_num\n",
    "        gap //= 2\n",
    "    return nums\n",
    "\n",
    "\n",
    "print(xir_sort(nums))"
   ]
  },
  {
   "cell_type": "markdown",
   "metadata": {},
   "source": [
    "# 3. 冒泡排序\n",
    "\n",
    "思想：两两进行对比，特点是每次迭代 i 都会选出最大/最小值\n"
   ]
  },
  {
   "cell_type": "code",
   "execution_count": 9,
   "metadata": {},
   "outputs": [
    {
     "name": "stdout",
     "output_type": "stream",
     "text": [
      "[1, 2, 3, 4, 5, 6, 7, 8, 9]\n"
     ]
    }
   ],
   "source": [
    "nums = [1, 3, 5, 4, 2, 6, 8, 7, 9]\n",
    "\n",
    "\n",
    "def bubble_sort(nums):\n",
    "    # 冒泡排序\n",
    "    for i in range(len(nums)-1):\n",
    "        for j in range(len(nums)-1-i):  # -i 是因为每次都会将最大/最小值冒泡到最后面，也就排除了尾部进行重新排序\n",
    "            # if nums[j-1] > nums[j]: # 错： j-1的话就不会考虑到j了 并且是正向去排序的 考虑j和j+1\n",
    "            # if nums[j] > nums[j-1]: #\n",
    "            if nums[j] > nums[j+1]:\n",
    "                nums[j], nums[j+1] = nums[j+1], nums[j]\n",
    "    return nums\n",
    "\n",
    "\n",
    "print(bubble_sort(nums))"
   ]
  }
 ],
 "metadata": {
  "kernelspec": {
   "display_name": "common_envs",
   "language": "python",
   "name": "python3"
  },
  "language_info": {
   "codemirror_mode": {
    "name": "ipython",
    "version": 3
   },
   "file_extension": ".py",
   "mimetype": "text/x-python",
   "name": "python",
   "nbconvert_exporter": "python",
   "pygments_lexer": "ipython3",
   "version": "3.9.16"
  }
 },
 "nbformat": 4,
 "nbformat_minor": 2
}
